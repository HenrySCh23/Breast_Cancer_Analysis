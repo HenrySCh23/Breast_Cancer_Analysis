{
 "cells": [
  {
   "cell_type": "code",
   "execution_count": 1,
   "metadata": {},
   "outputs": [],
   "source": [
    "import pandas as pd\n",
    "import numpy as np\n",
    "import matplotlib.pyplot as plt\n",
    "import seaborn as sns\n",
    "import warnings"
   ]
  },
  {
   "cell_type": "code",
   "execution_count": 2,
   "metadata": {},
   "outputs": [],
   "source": [
    "data = pd.read_csv(\"Breast_cancer_data.csv\")"
   ]
  },
  {
   "cell_type": "code",
   "execution_count": null,
   "metadata": {},
   "outputs": [],
   "source": [
    "data.describe() "
   ]
  },
  {
   "cell_type": "code",
   "execution_count": null,
   "metadata": {},
   "outputs": [],
   "source": [
    "data.isnull().any()"
   ]
  },
  {
   "cell_type": "markdown",
   "metadata": {},
   "source": [
    "# Exploratory Data Analysis\n",
    "## Barplot"
   ]
  },
  {
   "cell_type": "code",
   "execution_count": null,
   "metadata": {},
   "outputs": [],
   "source": [
    "from matplotlib.legend_handler import HandlerTuple\n",
    "# Create the countplot\n",
    "ax = sns.countplot(x='diagnosis', data=data, hue='diagnosis', palette='coolwarm', legend=True)\n",
    "# Modify legend labels\n",
    "legend_labels = ['Malignant', 'Benign']\n",
    "handles, _ = ax.get_legend_handles_labels()  # Get current legend items\n",
    "ax.legend(handles, legend_labels, title=\"Diagnosis\")  # Update legend\n",
    "\n",
    "#ax is to modify the plot later, hue and legend becauuse of a FutureWarning in palette\n",
    "\n",
    "\n",
    "plt.title(\"Diagnosis Distribution\")\n",
    "\n",
    "for container in ax.containers:\n",
    "    labels = [f\"{int(v.get_height())} cases\\n\\n{v.get_height() / data.shape[0] * 100:.1f}%\" for v in container]\n",
    "    \n",
    "    ax.bar_label(container, labels=labels, fontsize=12, padding=-30, color=\"black\", weight=\"bold\")\n",
    "\n",
    "ax.set_xticks([0, 1])  # Set tick positions for 0 and 1\n",
    "ax.set_xticklabels([\"Malignant\", \"Benign\"])  # Set custom labels\n",
    "\n",
    "plt.show()"
   ]
  },
  {
   "cell_type": "markdown",
   "metadata": {},
   "source": [
    "## Histogram"
   ]
  },
  {
   "cell_type": "code",
   "execution_count": null,
   "metadata": {},
   "outputs": [],
   "source": [
    "# Set up a grid for subplots\n",
    "fig, axes = plt.subplots(nrows=2, ncols=3, figsize=(15, 10))  # Adjusted for 6 features\n",
    "axes = axes.flatten()  # Flatten to loop easily\n",
    "\n",
    "# Define histogram color palette\n",
    "colors = [\"steelblue\", \"salmon\", \"seagreen\", \"darkorange\", \"purple\", \"crimson\"]\n",
    "\n",
    "# Loop through selected numerical columns\n",
    "for i, col in enumerate(['mean_radius', 'mean_texture', 'mean_perimeter', 'mean_area', 'mean_smoothness', 'diagnosis']):\n",
    "    axes[i].hist(data[col], bins=30, color=colors[i % len(colors)], edgecolor=\"black\", alpha=0.7)\n",
    "    axes[i].set_title(f\"Distribution of {col}\", fontsize=14)\n",
    "    axes[i].set_xlabel(col, fontsize=12)\n",
    "    axes[i].set_ylabel(\"Frequency\", fontsize=12)\n",
    "\n",
    "# Adjust layout to prevent overlapping\n",
    "plt.tight_layout()\n",
    "plt.suptitle(\"Feature Distributions\", fontsize=18, fontweight=\"bold\", y=1.02)\n",
    "plt.show()"
   ]
  },
  {
   "cell_type": "markdown",
   "metadata": {},
   "source": [
    "## Boxplot"
   ]
  },
  {
   "cell_type": "code",
   "execution_count": null,
   "metadata": {},
   "outputs": [],
   "source": [
    "fig, ax = plt.subplots(1, 5, figsize=(20,6))\n",
    "\n",
    "plt.tight_layout()\n",
    "ax[0].set_title(\"mean_radius\")\n",
    "ax[0].boxplot(data['mean_radius'])\n",
    "\n",
    "ax[1].set_title('mean_texture')\n",
    "ax[1].boxplot(data[\"mean_texture\"])\n",
    "\n",
    "ax[2].set_title('mean_perimeter')\n",
    "ax[2].boxplot(data[\"mean_perimeter\"])\n",
    "\n",
    "ax[3].set_title('mean_area')\n",
    "ax[3].boxplot(data[\"mean_area\"])\n",
    "\n",
    "ax[4].set_title('mean_smoothness')\n",
    "ax[4].boxplot(data[\"mean_smoothness\"])\n",
    "plt.show()"
   ]
  },
  {
   "cell_type": "code",
   "execution_count": null,
   "metadata": {},
   "outputs": [],
   "source": [
    "# Set figure size\n",
    "f, ax = plt.subplots(figsize=(8, 6))\n",
    "\n",
    "# Create the boxplot with improvements\n",
    "sns.boxplot(\n",
    "    x=\"diagnosis\", \n",
    "    y=\"mean_radius\", \n",
    "    data=data, \n",
    "    palette=\"coolwarm\",   # Set a better color palette\n",
    "    width=0.6,            # Adjust box width\n",
    "    flierprops={'marker': 'o', 'markersize': 6, 'markerfacecolor': 'black'},  # Outlier style\n",
    "    linewidth=2           # Increase line thickness\n",
    ")\n",
    "\n",
    "# Customizing the plot\n",
    "ax.set_xticks([0, 1])                          #\n",
    "ax.set_xticklabels([\"Malignant\", \"Benign\"])  # Replace 0 and 1 with labels\n",
    "ax.set_xlabel(\"Diagnosis\", fontsize=14)\n",
    "ax.set_ylabel(\"Mean Radius\", fontsize=14)\n",
    "ax.set_title(\"Comparison of Mean Radius by Diagnosis\", fontsize=16, fontweight=\"bold\")\n",
    "\n",
    "# Add gridlines\n",
    "ax.grid(axis='y', linestyle=\"--\", alpha=0.7)\n",
    "\n",
    "# Show the plot\n",
    "plt.show()"
   ]
  },
  {
   "cell_type": "markdown",
   "metadata": {},
   "source": [
    "## Grouped-Bar plot"
   ]
  },
  {
   "cell_type": "code",
   "execution_count": null,
   "metadata": {},
   "outputs": [],
   "source": [
    "# Work on a copy of the dataset to prevent modification\n",
    "data_copy = data.copy()\n",
    "\n",
    "# Create the binned variable\n",
    "data_copy[\"radius_category\"] = pd.cut(data_copy[\"mean_texture\"], bins=3, labels=[\"Small\", \"Medium\", \"Large\"])\n",
    "\n",
    "# Create a grouped count of each category\n",
    "grouped_counts = data_copy.groupby([\"radius_category\", \"diagnosis\"]).size().unstack()\n",
    "\n",
    "# Create a stacked bar plot\n",
    "ax = grouped_counts.plot(kind=\"bar\", stacked=True, figsize=(10,6), colormap=\"coolwarm\")\n",
    "\n",
    "# Add labelsx\n",
    "plt.title(\"Stacked Distribution of Tumor Sizes by Diagnosis\")\n",
    "plt.xlabel(\"Tumor Size Category\")\n",
    "plt.ylabel(\"Count\")\n",
    "\n",
    "# Customize legend\n",
    "plt.legend(title=\"Diagnosis\", labels=[\"Malignant\", \"Benign\"])\n",
    "\n",
    "# Rotate x-axis labels for better readability\n",
    "plt.xticks(rotation=0)\n",
    "\n",
    "# Improve readability with grid lines\n",
    "plt.grid(axis=\"y\", linestyle=\"--\", alpha=0.7)\n",
    "\n",
    "# Display the plot\n",
    "plt.show()"
   ]
  },
  {
   "cell_type": "markdown",
   "metadata": {},
   "source": [
    "## Heatmap"
   ]
  },
  {
   "cell_type": "code",
   "execution_count": null,
   "metadata": {},
   "outputs": [],
   "source": [
    "plt.figure(figsize=(12,10))\n",
    "\n",
    "cor = data[['mean_radius', 'mean_texture', 'mean_perimeter', 'mean_area', 'mean_smoothness', 'diagnosis']].corr() #correlation matrix\n",
    "\n",
    "sns.heatmap(cor, annot=True, cmap=\"coolwarm\", center=0, fmt=\".2f\", linewidths=0.5, annot_kws={\"size\": 12})\n",
    "\n",
    "plt.title(\"Feature Correlation Heatmap\", fontsize=16)\n",
    "plt.xticks(fontsize=12, rotation=45)  # Rotate x-axis labels for clarity\n",
    "plt.yticks(fontsize=12)\n",
    "plt.show()"
   ]
  },
  {
   "cell_type": "markdown",
   "metadata": {},
   "source": [
    "## Clustermap"
   ]
  },
  {
   "cell_type": "code",
   "execution_count": null,
   "metadata": {},
   "outputs": [],
   "source": [
    "plt.figure(figsize=(12, 10))  # Set figure size\n",
    "\n",
    "sns.clustermap(\n",
    "    cor, \n",
    "    annot=True,  # Display correlation values\n",
    "    fmt=\".2f\",  # Format numbers to 2 decimal places\n",
    "    cmap=\"RdBu\",  # Improved color map for contrast\n",
    "    linewidths=0.5,  # Add grid lines for clarity\n",
    "    annot_kws={\"size\": 10},  # Adjust annotation size\n",
    "    figsize=(12, 10),  # Control the figure size\n",
    "    cbar_pos=(0.02, 0.8, 0.05, 0.18)  # Adjust colorbar position for better aesthetics\n",
    ")\n",
    "\n",
    "plt.title(\"Feature Correlation Clustermap\", fontsize=18, fontweight=\"bold\")  # Title formatting\n",
    "plt.xticks(fontsize=12)  # Adjust x-axis labels\n",
    "plt.yticks(fontsize=12)  # Adjust y-axis labels\n",
    "\n",
    "plt.show()"
   ]
  },
  {
   "cell_type": "markdown",
   "metadata": {},
   "source": [
    "## Pairplot"
   ]
  },
  {
   "cell_type": "code",
   "execution_count": null,
   "metadata": {},
   "outputs": [],
   "source": [
    "warnings.filterwarnings(\"ignore\")  # Ignore warnings for clarity\n",
    "\n",
    "# Create a temporary copy with mapped labels\n",
    "temp_data = data.copy()\n",
    "temp_data['diagnosis'] = temp_data['diagnosis'].map({0: 'Malignant', 1: 'Benign'})\n",
    "\n",
    "# Create Pairplot with Improved Visualization\n",
    "sns.pairplot(\n",
    "    temp_data[['mean_radius', 'mean_texture', 'mean_perimeter', 'mean_area', 'mean_smoothness', 'diagnosis']], \n",
    "    hue='diagnosis',  # Color by class\n",
    "    palette={\"Malignant\": \"red\", \"Benign\": \"blue\"},  # Swapped colors\n",
    "    height=2.5,  # Adjust figure size\n",
    "    diag_kind=\"kde\",  # Kernel density estimation for diagonal\n",
    "    markers=[\"o\", \"s\"],  # Different markers for categories\n",
    "    plot_kws={\"alpha\": 0.5},  # Reduce marker opacity for clarity\n",
    "    corner=True  # Remove duplicate plots for better clarity\n",
    ")\n",
    "\n",
    "plt.show()"
   ]
  }
 ],
 "metadata": {
  "kernelspec": {
   "display_name": "fodsenv",
   "language": "python",
   "name": "python3"
  },
  "language_info": {
   "codemirror_mode": {
    "name": "ipython",
    "version": 3
   },
   "file_extension": ".py",
   "mimetype": "text/x-python",
   "name": "python",
   "nbconvert_exporter": "python",
   "pygments_lexer": "ipython3",
   "version": "3.13.1"
  }
 },
 "nbformat": 4,
 "nbformat_minor": 2
}
